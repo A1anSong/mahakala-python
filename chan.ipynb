{
 "cells": [
  {
   "cell_type": "code",
   "execution_count": 1,
   "id": "cfc564c8-7a41-45f7-b0fc-985d922c1e68",
   "metadata": {},
   "outputs": [],
   "source": [
    "import mplfinance as mpf\n",
    "\n",
    "import core.config as core_config\n",
    "import analyze.chan as chan\n",
    "import draw.draw as draw\n",
    "\n",
    "config = core_config.config"
   ]
  },
  {
   "cell_type": "code",
   "execution_count": 2,
   "id": "3183fc48-03ac-4860-ac05-b368a9f243b5",
   "metadata": {},
   "outputs": [],
   "source": [
    "symbol = 'BTCUSDT'\n",
    "interval = '1d'\n",
    "df = chan.get_data(symbol, chan.interval_period[interval], config['mahakala']['analyze_amount'])\n",
    "df = df[:-1]\n",
    "df = chan.process_data(df)"
   ]
  },
  {
   "cell_type": "code",
   "execution_count": null,
   "id": "2d1986e9-bdbd-4e9e-9769-5d24d36e1935",
   "metadata": {},
   "outputs": [],
   "source": [
    "addplot_all = draw.add_plots(df)\n",
    "all_lines = draw.add_lines(df)\n",
    "rectangles = draw.add_rectangles(df)\n",
    "fig_scale = config['mahakala']['analyze_amount'] / 100\n",
    "# 绘制图表\n",
    "if len(rectangles) > 0:\n",
    "    mpf.plot(df, figscale=fig_scale, type='candle', style='binance', title=symbol, ylabel='Price (₮)', volume=True, ylabel_lower='Volume', volume_panel=2, addplot=addplot_all, alines=all_lines, fill_between=rectangles, warn_too_much_data=1000)\n",
    "else:\n",
    "    mpf.plot(df, figscale=fig_scale, type='candle', style='binance', title=symbol, ylabel='Price (₮)', volume=True, ylabel_lower='Volume', volume_panel=2, addplot=addplot_all, alines=all_lines, warn_too_much_data=1000)"
   ]
  },
  {
   "cell_type": "code",
   "execution_count": null,
   "id": "8eb1b883-d192-4a02-9d02-69ca87c154b9",
   "metadata": {},
   "outputs": [],
   "source": []
  }
 ],
 "metadata": {
  "kernelspec": {
   "display_name": "Python 3 (ipykernel)",
   "language": "python",
   "name": "python3"
  },
  "language_info": {
   "codemirror_mode": {
    "name": "ipython",
    "version": 3
   },
   "file_extension": ".py",
   "mimetype": "text/x-python",
   "name": "python",
   "nbconvert_exporter": "python",
   "pygments_lexer": "ipython3",
   "version": "3.11.3"
  }
 },
 "nbformat": 4,
 "nbformat_minor": 5
}
